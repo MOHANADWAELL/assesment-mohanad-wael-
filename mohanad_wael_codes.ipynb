{
 "cells": [
  {
   "cell_type": "code",
   "execution_count": 4,
   "id": "2b5c168d-08e4-4939-9273-a125a9cc0557",
   "metadata": {},
   "outputs": [
    {
     "name": "stdin",
     "output_type": "stream",
     "text": [
      "enter your num 1 2 4\n",
      "enter your num 5\n"
     ]
    },
    {
     "name": "stdout",
     "output_type": "stream",
     "text": [
      "2 :is even\n",
      "4 :is even\n",
      "tresh_hold < m \n"
     ]
    },
    {
     "data": {
      "text/plain": [
       "6"
      ]
     },
     "execution_count": 4,
     "metadata": {},
     "output_type": "execute_result"
    }
   ],
   "source": [
    "#2\n",
    "#the program created to alist and print all even number and sum it\n",
    "user_list=input(\"enter your num\").split()\n",
    "user_list =list(map(int,user_list))\n",
    "tresh_hold =float(input(\"enter your num\"))\n",
    "m=0\n",
    "for number in user_list:\n",
    "    if number % 2 == 0:\n",
    "        print(f\"{number} :is even\")\n",
    "        m+=number\n",
    "if tresh_hold > m :\n",
    "    print (\"tresh_hold > m \")\n",
    "else:  \n",
    "    print (\"tresh_hold < m \")\n",
    "m\n",
    "    "
   ]
  },
  {
   "cell_type": "code",
   "execution_count": null,
   "id": "7208fb69-7dd5-4ace-9eb9-11d0a62c76f3",
   "metadata": {},
   "outputs": [],
   "source": [
    "#task 1\n",
    "#the code is convert between data type\n",
    "#change from str to int\n",
    "x=\"33\"\n",
    "y=int(x)\n",
    "print(y)\n",
    "print(type(y))"
   ]
  },
  {
   "cell_type": "code",
   "execution_count": null,
   "id": "baa425db-a0d9-4164-a420-670e6253fbef",
   "metadata": {},
   "outputs": [],
   "source": [
    "#task 23\n",
    "#the program created to divided two numbers\n",
    "def div():\n",
    "    num1=float(input(\"enter your num1: \"))\n",
    "    num2=float(input(\"enter your num2: \"))\n",
    "    while num2==0:\n",
    "        num2=float(input(\"enter your num2: \"))\n",
    "    return num1/num2\n",
    "    \n",
    "div()"
   ]
  },
  {
   "cell_type": "code",
   "execution_count": null,
   "id": "71a84e34-067f-408e-acea-3180d0ae016d",
   "metadata": {},
   "outputs": [],
   "source": [
    "#task 4\n",
    "#the code get me the rang from 1 to 999999\n",
    "for m in range(1,1000000):\n",
    "    print(m)"
   ]
  },
  {
   "cell_type": "code",
   "execution_count": null,
   "id": "85ead273-3d77-4cf6-9507-c357fef7c947",
   "metadata": {},
   "outputs": [],
   "source": []
  },
  {
   "cell_type": "code",
   "execution_count": null,
   "id": "1d711190-e278-4b91-bc02-5bd7de94b387",
   "metadata": {},
   "outputs": [],
   "source": []
  }
 ],
 "metadata": {
  "kernelspec": {
   "display_name": "Python 3 (ipykernel)",
   "language": "python",
   "name": "python3"
  },
  "language_info": {
   "codemirror_mode": {
    "name": "ipython",
    "version": 3
   },
   "file_extension": ".py",
   "mimetype": "text/x-python",
   "name": "python",
   "nbconvert_exporter": "python",
   "pygments_lexer": "ipython3",
   "version": "3.13.0"
  }
 },
 "nbformat": 4,
 "nbformat_minor": 5
}
